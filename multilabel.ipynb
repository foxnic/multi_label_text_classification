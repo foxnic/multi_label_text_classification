{
  "nbformat": 4,
  "nbformat_minor": 0,
  "metadata": {
    "colab": {
      "name": "multilabel.ipynb",
      "provenance": [],
      "collapsed_sections": []
    },
    "kernelspec": {
      "name": "python3",
      "display_name": "Python 3"
    },
    "language_info": {
      "name": "python"
    }
  },
  "cells": [
    {
      "cell_type": "markdown",
      "metadata": {
        "id": "A0HyqeGrDkne"
      },
      "source": [
        "# Multi-Label Multi-Class Classification with Scikit-Learn's OneVsRestClassifier and LinearSVC"
      ]
    },
    {
      "cell_type": "code",
      "metadata": {
        "colab": {
          "base_uri": "https://localhost:8080/",
          "height": 847
        },
        "id": "m6P3tSbvWxiQ",
        "outputId": "07abd314-7239-4992-99a2-8dad3e79a73c"
      },
      "source": [
        "import numpy as np\n",
        "import pandas as pd\n",
        "from sklearn.pipeline import Pipeline\n",
        "from sklearn.feature_extraction.text import CountVectorizer\n",
        "from sklearn.svm import LinearSVC\n",
        "from sklearn.feature_extraction.text import TfidfTransformer\n",
        "from sklearn.multiclass import OneVsRestClassifier\n",
        "from sklearn.preprocessing import MultiLabelBinarizer\n",
        "from sklearn.metrics import accuracy_score, precision_score, recall_score, f1_score\n",
        "\n",
        "X_train = np.array([\"new york is a hell of a town\", \"new york was originally dutch\",\n",
        "                    \"the big apple is great\", \"new york is also called the big apple\",\n",
        "                    \"nyc is nice\", \"people abbreviate new york city as nyc\",\n",
        "                    \"the capital of great britain is london\", \"london is in the uk\",\n",
        "                    \"london is in england\", \"london is in great britain\", \"it rains a lot in london\",\n",
        "                    \"london hosts the british museum\", \"new york is great and so is london\",\n",
        "                    \"i like london better than new york\"])\n",
        "\n",
        "print('X_train\\n', X_train, '\\n')\n",
        "\n",
        "y_train_text = [[\"new york\"],[\"new york\"],[\"new york\"],[\"new york\"],[\"new york\"],\n",
        "                [\"new york\"],[\"london\"],[\"london\"],[\"london\"],[\"london\"],\n",
        "                [\"london\"],[\"london\"],[\"new york\",\"london\"],[\"new york\",\"london\"]]\n",
        "\n",
        "print('y_train_text\\n', y_train_text, '\\n')\n",
        "\n",
        "X_test = np.array(['nice day in nyc',\n",
        "                   'welcome to london',\n",
        "                   'london is rainy',\n",
        "                   'it is raining in britian',\n",
        "                   'it is raining in britian and the big apple',\n",
        "                   'it is raining in britian and nyc',\n",
        "                   'hello welcome to new york. enjoy it here and london too'])\n",
        "\n",
        "y_test_text = [[\"new york\"], \n",
        "               [\"london\"], \n",
        "               [\"london\"], \n",
        "               [\"london\"], \n",
        "               [\"new york\", \"london\"],\n",
        "               [\"new york\", \"london\"],\n",
        "               [\"new york\", \"london\"]\n",
        "               ]\n",
        "\n",
        "mlb = MultiLabelBinarizer()\n",
        "y_train_binarised = mlb.fit_transform(y_train_text)\n",
        "y_test_binarised = mlb.fit_transform(y_test_text)\n",
        "target_names = mlb.classes_\n",
        "print('y_train_binarised\\n', y_train_binarised, '\\n')\n",
        "print('target_names:', target_names, '\\n')\n",
        "\n",
        "classifier = Pipeline([\n",
        "    ('vectorizer', CountVectorizer()),\n",
        "    ('tfidf', TfidfTransformer()),\n",
        "    ('clf', OneVsRestClassifier(LinearSVC()))])\n",
        "\n",
        "classifier.fit(X_train, y_train_binarised)\n",
        "predicted = classifier.predict(X_test)\n",
        "all_labels = mlb.inverse_transform(predicted)\n",
        "\n",
        "print('\\nPredictions (test set):\\n')\n",
        "inputs=[]\n",
        "label_strings=[]\n",
        "for item, labels in zip(X_test, all_labels):\n",
        "  inputs.append(item)\n",
        "  label_string = ', '.join(labels)\n",
        "  label_strings.append(label_string)\n",
        "\n",
        "test_predictions = pd.DataFrame({'input_string':inputs, 'label_string':label_strings})\n",
        "test_predictions"
      ],
      "execution_count": null,
      "outputs": [
        {
          "output_type": "stream",
          "text": [
            "X_train\n",
            " ['new york is a hell of a town' 'new york was originally dutch'\n",
            " 'the big apple is great' 'new york is also called the big apple'\n",
            " 'nyc is nice' 'people abbreviate new york city as nyc'\n",
            " 'the capital of great britain is london' 'london is in the uk'\n",
            " 'london is in england' 'london is in great britain'\n",
            " 'it rains a lot in london' 'london hosts the british museum'\n",
            " 'new york is great and so is london' 'i like london better than new york'] \n",
            "\n",
            "y_train_text\n",
            " [['new york'], ['new york'], ['new york'], ['new york'], ['new york'], ['new york'], ['london'], ['london'], ['london'], ['london'], ['london'], ['london'], ['new york', 'london'], ['new york', 'london']] \n",
            "\n",
            "y_train_binarised\n",
            " [[0 1]\n",
            " [0 1]\n",
            " [0 1]\n",
            " [0 1]\n",
            " [0 1]\n",
            " [0 1]\n",
            " [1 0]\n",
            " [1 0]\n",
            " [1 0]\n",
            " [1 0]\n",
            " [1 0]\n",
            " [1 0]\n",
            " [1 1]\n",
            " [1 1]] \n",
            "\n",
            "target_names: ['london' 'new york'] \n",
            "\n",
            "\n",
            "Predictions (test set):\n",
            "\n"
          ],
          "name": "stdout"
        },
        {
          "output_type": "execute_result",
          "data": {
            "text/html": [
              "<div>\n",
              "<style scoped>\n",
              "    .dataframe tbody tr th:only-of-type {\n",
              "        vertical-align: middle;\n",
              "    }\n",
              "\n",
              "    .dataframe tbody tr th {\n",
              "        vertical-align: top;\n",
              "    }\n",
              "\n",
              "    .dataframe thead th {\n",
              "        text-align: right;\n",
              "    }\n",
              "</style>\n",
              "<table border=\"1\" class=\"dataframe\">\n",
              "  <thead>\n",
              "    <tr style=\"text-align: right;\">\n",
              "      <th></th>\n",
              "      <th>input_string</th>\n",
              "      <th>label_string</th>\n",
              "    </tr>\n",
              "  </thead>\n",
              "  <tbody>\n",
              "    <tr>\n",
              "      <th>0</th>\n",
              "      <td>nice day in nyc</td>\n",
              "      <td>new york</td>\n",
              "    </tr>\n",
              "    <tr>\n",
              "      <th>1</th>\n",
              "      <td>welcome to london</td>\n",
              "      <td>london</td>\n",
              "    </tr>\n",
              "    <tr>\n",
              "      <th>2</th>\n",
              "      <td>london is rainy</td>\n",
              "      <td>london</td>\n",
              "    </tr>\n",
              "    <tr>\n",
              "      <th>3</th>\n",
              "      <td>it is raining in britian</td>\n",
              "      <td>london</td>\n",
              "    </tr>\n",
              "    <tr>\n",
              "      <th>4</th>\n",
              "      <td>it is raining in britian and the big apple</td>\n",
              "      <td>new york</td>\n",
              "    </tr>\n",
              "    <tr>\n",
              "      <th>5</th>\n",
              "      <td>it is raining in britian and nyc</td>\n",
              "      <td>london, new york</td>\n",
              "    </tr>\n",
              "    <tr>\n",
              "      <th>6</th>\n",
              "      <td>hello welcome to new york. enjoy it here and l...</td>\n",
              "      <td>london, new york</td>\n",
              "    </tr>\n",
              "  </tbody>\n",
              "</table>\n",
              "</div>"
            ],
            "text/plain": [
              "                                        input_string      label_string\n",
              "0                                    nice day in nyc          new york\n",
              "1                                  welcome to london            london\n",
              "2                                    london is rainy            london\n",
              "3                           it is raining in britian            london\n",
              "4         it is raining in britian and the big apple          new york\n",
              "5                   it is raining in britian and nyc  london, new york\n",
              "6  hello welcome to new york. enjoy it here and l...  london, new york"
            ]
          },
          "metadata": {
            "tags": []
          },
          "execution_count": 48
        }
      ]
    },
    {
      "cell_type": "code",
      "metadata": {
        "colab": {
          "base_uri": "https://localhost:8080/"
        },
        "id": "Mduia04meAjG",
        "outputId": "3124e9b4-355e-479c-bfae-683531273f53"
      },
      "source": [
        "print(\"Accuracy Score: \", accuracy_score(y_test_binarised, predicted))\n",
        "print('')\n",
        "print(\"Precision (micro): \", precision_score(y_test_binarised, predicted, average='micro'))\n",
        "print(\"Recall (micro): \", recall_score(y_test_binarised, predicted, average='micro'))\n",
        "print(\"F1 (micro): \", f1_score(y_test_binarised, predicted, average='micro'))\n",
        "print('')\n",
        "print(\"Precision (macro): \", precision_score(y_test_binarised, predicted, average='macro'))\n",
        "print(\"Recall (macro): \", recall_score(y_test_binarised, predicted, average='macro'))\n",
        "print(\"F1 (macro): \", f1_score(y_test_binarised, predicted, average='macro'))"
      ],
      "execution_count": null,
      "outputs": [
        {
          "output_type": "stream",
          "text": [
            "Accuracy Score:  0.8571428571428571\n",
            "\n",
            "Precision (micro):  1.0\n",
            "Recall (micro):  0.9\n",
            "F1 (micro):  0.9473684210526316\n",
            "\n",
            "Precision (macro):  1.0\n",
            "Recall (macro):  0.9166666666666667\n",
            "F1 (macro):  0.9545454545454546\n"
          ],
          "name": "stdout"
        }
      ]
    },
    {
      "cell_type": "code",
      "metadata": {
        "colab": {
          "base_uri": "https://localhost:8080/"
        },
        "id": "PVwlVMiLfymB",
        "outputId": "5bf6e476-72be-4c73-e404-5421bb212603"
      },
      "source": [
        "all_test_labels = mlb.inverse_transform(y_test_binarised)\n",
        "print('true labels for test set:\\n')\n",
        "all_test_labels"
      ],
      "execution_count": null,
      "outputs": [
        {
          "output_type": "stream",
          "text": [
            "true labels for test set:\n",
            "\n"
          ],
          "name": "stdout"
        },
        {
          "output_type": "execute_result",
          "data": {
            "text/plain": [
              "[('new york',),\n",
              " ('london',),\n",
              " ('london',),\n",
              " ('london',),\n",
              " ('london', 'new york'),\n",
              " ('london', 'new york'),\n",
              " ('london', 'new york')]"
            ]
          },
          "metadata": {
            "tags": []
          },
          "execution_count": 60
        }
      ]
    },
    {
      "cell_type": "code",
      "metadata": {
        "colab": {
          "base_uri": "https://localhost:8080/"
        },
        "id": "Lce8BFSCgP7Y",
        "outputId": "3aa35150-44b0-4bdb-df04-d0ca616361d4"
      },
      "source": [
        "inputs=[]\n",
        "true_label_strings=[]\n",
        "for item, labels in zip(X_test, all_test_labels):\n",
        "  inputs.append(item)\n",
        "  label_string = ', '.join(labels)\n",
        "  true_label_strings.append(label_string)\n",
        "  print(item, ' - Truth:', label_string)"
      ],
      "execution_count": null,
      "outputs": [
        {
          "output_type": "stream",
          "text": [
            "nice day in nyc  - Truth: new york\n",
            "welcome to london  - Truth: london\n",
            "london is rainy  - Truth: london\n",
            "it is raining in britian  - Truth: london\n",
            "it is raining in britian and the big apple  - Truth: london, new york\n",
            "it is raining in britian and nyc  - Truth: london, new york\n",
            "hello welcome to new york. enjoy it here and london too  - Truth: london, new york\n"
          ],
          "name": "stdout"
        }
      ]
    },
    {
      "cell_type": "code",
      "metadata": {
        "colab": {
          "base_uri": "https://localhost:8080/",
          "height": 266
        },
        "id": "IuhSGEQRaeZP",
        "outputId": "83093807-c4fb-4090-83ce-d129962d3db6"
      },
      "source": [
        "preds_and_actuals = test_predictions\n",
        "preds_and_actuals['truth'] = true_label_strings\n",
        "preds_and_actuals"
      ],
      "execution_count": null,
      "outputs": [
        {
          "output_type": "execute_result",
          "data": {
            "text/html": [
              "<div>\n",
              "<style scoped>\n",
              "    .dataframe tbody tr th:only-of-type {\n",
              "        vertical-align: middle;\n",
              "    }\n",
              "\n",
              "    .dataframe tbody tr th {\n",
              "        vertical-align: top;\n",
              "    }\n",
              "\n",
              "    .dataframe thead th {\n",
              "        text-align: right;\n",
              "    }\n",
              "</style>\n",
              "<table border=\"1\" class=\"dataframe\">\n",
              "  <thead>\n",
              "    <tr style=\"text-align: right;\">\n",
              "      <th></th>\n",
              "      <th>input_string</th>\n",
              "      <th>label_string</th>\n",
              "      <th>truth</th>\n",
              "    </tr>\n",
              "  </thead>\n",
              "  <tbody>\n",
              "    <tr>\n",
              "      <th>0</th>\n",
              "      <td>nice day in nyc</td>\n",
              "      <td>new york</td>\n",
              "      <td>new york</td>\n",
              "    </tr>\n",
              "    <tr>\n",
              "      <th>1</th>\n",
              "      <td>welcome to london</td>\n",
              "      <td>london</td>\n",
              "      <td>london</td>\n",
              "    </tr>\n",
              "    <tr>\n",
              "      <th>2</th>\n",
              "      <td>london is rainy</td>\n",
              "      <td>london</td>\n",
              "      <td>london</td>\n",
              "    </tr>\n",
              "    <tr>\n",
              "      <th>3</th>\n",
              "      <td>it is raining in britian</td>\n",
              "      <td>london</td>\n",
              "      <td>london</td>\n",
              "    </tr>\n",
              "    <tr>\n",
              "      <th>4</th>\n",
              "      <td>it is raining in britian and the big apple</td>\n",
              "      <td>new york</td>\n",
              "      <td>london, new york</td>\n",
              "    </tr>\n",
              "    <tr>\n",
              "      <th>5</th>\n",
              "      <td>it is raining in britian and nyc</td>\n",
              "      <td>london, new york</td>\n",
              "      <td>london, new york</td>\n",
              "    </tr>\n",
              "    <tr>\n",
              "      <th>6</th>\n",
              "      <td>hello welcome to new york. enjoy it here and l...</td>\n",
              "      <td>london, new york</td>\n",
              "      <td>london, new york</td>\n",
              "    </tr>\n",
              "  </tbody>\n",
              "</table>\n",
              "</div>"
            ],
            "text/plain": [
              "                                        input_string  ...             truth\n",
              "0                                    nice day in nyc  ...          new york\n",
              "1                                  welcome to london  ...            london\n",
              "2                                    london is rainy  ...            london\n",
              "3                           it is raining in britian  ...            london\n",
              "4         it is raining in britian and the big apple  ...  london, new york\n",
              "5                   it is raining in britian and nyc  ...  london, new york\n",
              "6  hello welcome to new york. enjoy it here and l...  ...  london, new york\n",
              "\n",
              "[7 rows x 3 columns]"
            ]
          },
          "metadata": {
            "tags": []
          },
          "execution_count": 64
        }
      ]
    }
  ]
}